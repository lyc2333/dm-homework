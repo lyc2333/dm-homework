{
 "cells": [
  {
   "cell_type": "code",
   "execution_count": null,
   "id": "87f5ae22",
   "metadata": {},
   "outputs": [],
   "source": [
    "from time import sleep\n",
    "from tqdm.notebook import tqdm\n",
    "from multiprocessing import Pool, freeze_support\n",
    "\n",
    "def progresser(n):\n",
    "    # This line is the strange hack\n",
    "    print(' ', end='', flush=True)\n",
    "\n",
    "    text = \"progresser #{}\".format(n)\n",
    "    for i in tqdm(range(5000), desc=text, position=n):\n",
    "         sleep(0.001)\n",
    "        \n",
    "if __name__ == '__main__':\n",
    "    freeze_support()\n",
    "    L = list(range(10))\n",
    "    print()\n",
    "    Pool(2).map(progresser, L)\n"
   ]
  },
  {
   "cell_type": "code",
   "execution_count": null,
   "id": "40f81af3",
   "metadata": {},
   "outputs": [
    {
     "data": {
      "application/vnd.jupyter.widget-view+json": {
       "model_id": "028478310b3f41cfb8973da971433669",
       "version_major": 2,
       "version_minor": 0
      },
      "text/plain": [
       "  0%|          | 0/10 [00:00<?, ?it/s]"
      ]
     },
     "metadata": {},
     "output_type": "display_data"
    }
   ],
   "source": [
    "import time\n",
    "from tqdm.notebook import tqdm\n",
    "for i in tqdm(range(10)):\n",
    "    time.sleep(0.1)\n"
   ]
  },
  {
   "cell_type": "code",
   "execution_count": 2,
   "id": "aa820177",
   "metadata": {},
   "outputs": [],
   "source": [
    "from jsonColumnParser import *\n",
    "import multiprocessing\n",
    "\n",
    "from typing import Any, Callable\n",
    "from config import load_config\n",
    "import pathlib\n",
    "# import json\n",
    "import orjson as json  # 能加速5%左右\n",
    "import pyarrow.parquet as pq\n",
    "import pyarrow as pa\n",
    "import pandas as pd\n",
    "from tqdm import tqdm\n",
    "from datetime import datetime\n"
   ]
  },
  {
   "cell_type": "code",
   "execution_count": null,
   "id": "9a857bef",
   "metadata": {},
   "outputs": [],
   "source": [
    "multiprocessing.freeze_support()\n",
    "multiprocessing.set_start_method('spawn')  # GPT说可以增加跨平台稳定性，没有测过\n",
    "config = load_config()\n",
    "num_file = 8\n",
    "input_dir = pathlib.Path(r'E:\\data_mining\\dm-homework\\split_file\\10G_data_new')\n",
    "output_dir = pathlib.Path(\"processed_data\") / input_dir.name\n",
    "output_dir.mkdir(parents=True, exist_ok=True)\n",
    "args = [\n",
    "    (\n",
    "        input_dir / f\"part.{i}.parquet\",\n",
    "        output_dir / f\"part.{i}.parquet\",\n",
    "        pa.schema([\n",
    "            pa.field('avg_price', pa.float64()),\n",
    "            pa.field('categories', pa.string()),\n",
    "            pa.field('items', pa.binary()),\n",
    "            pa.field('item_count', pa.int64()),\n",
    "            pa.field('payment_method', pa.string()),\n",
    "            pa.field('payment_status', pa.string()),\n",
    "            pa.field('purchase_date', pa.float64()),\n",
    "        ]),\n",
    "        \"purchase_history\",\n",
    "        parse_purchase_history,\n",
    "        1024,\n",
    "        i,\n",
    "    ) for i in range(num_file)\n",
    "]\n",
    "with multiprocessing.Pool() as pool:\n",
    "    pool.starmap(parse_json_column, args)\n",
    "tqdm.write(\"所有任务完成\")"
   ]
  }
 ],
 "metadata": {
  "kernelspec": {
   "display_name": "Python 3",
   "language": "python",
   "name": "python3"
  },
  "language_info": {
   "codemirror_mode": {
    "name": "ipython",
    "version": 3
   },
   "file_extension": ".py",
   "mimetype": "text/x-python",
   "name": "python",
   "nbconvert_exporter": "python",
   "pygments_lexer": "ipython3",
   "version": "3.10.16"
  }
 },
 "nbformat": 4,
 "nbformat_minor": 5
}
